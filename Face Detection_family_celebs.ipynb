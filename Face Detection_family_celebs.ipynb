{
 "cells": [
  {
   "cell_type": "markdown",
   "metadata": {},
   "source": [
    "### 1. Setting paths for datasets"
   ]
  },
  {
   "cell_type": "code",
   "execution_count": 1,
   "metadata": {},
   "outputs": [],
   "source": [
    "import os \n",
    "import numpy as np\n",
    "\n",
    "cwd =  os.getcwd()\n",
    "\n",
    "train_path = os.path.join(cwd, 'dataset/combined_5celebs_family/train')\n",
    "validation_path = os.path.join(cwd, 'dataset/combined_5celebs_family/val/')"
   ]
  },
  {
   "cell_type": "markdown",
   "metadata": {},
   "source": [
    "### 2. Loading the training data"
   ]
  },
  {
   "cell_type": "code",
   "execution_count": null,
   "metadata": {},
   "outputs": [],
   "source": [
    "from face_recog.io import ImageDataset\n",
    "\n",
    "data_train = ImageDataset(train_path)\n",
    "X_train, y_train = data_train.load_data(convert_xy=True)"
   ]
  },
  {
   "cell_type": "code",
   "execution_count": null,
   "metadata": {
    "scrolled": true
   },
   "outputs": [],
   "source": [
    "print('Number of images:', len(X_train))\n",
    "print('Number of labels:', len(y_train))\n",
    "\n",
    "for i, x in enumerate(X_train):\n",
    "    print('Label:', y_train[i], 'Shape:', x.shape)\n",
    "    break"
   ]
  },
  {
   "cell_type": "markdown",
   "metadata": {},
   "source": [
    "### 3. Detecting and Cropping faces "
   ]
  },
  {
   "cell_type": "code",
   "execution_count": null,
   "metadata": {},
   "outputs": [],
   "source": [
    "from face_recog.detector import FaceDetectorTransformer\n",
    "\n",
    "detector = FaceDetectorTransformer(final_size=(160, 160))\n",
    "X_train = detector.fit_transform(X_train)\n",
    "y_train = detector.apply_label_mask(y_train)\n",
    "\n",
    "print('Shape of detected face datasets:', X_train.shape)\n",
    "print('Length of label list', len(y_train))"
   ]
  },
  {
   "cell_type": "code",
   "execution_count": null,
   "metadata": {},
   "outputs": [],
   "source": [
    "remove = [2,39, 60, 101]\n",
    "\n",
    "count = 0\n",
    "for folder in os.listdir(data_train.image_path):\n",
    "    data_train.img_array_detected[folder] = []\n",
    "    folder_path = os.path.join(data_train.image_path, folder)\n",
    "    for file_name in os.listdir(folder_path):\n",
    "        path = os.path.join(folder_path, file_name) \n",
    "        if count in remove:\n",
    "            print(path)\n",
    "        count += 1"
   ]
  },
  {
   "cell_type": "markdown",
   "metadata": {},
   "source": [
    "#### Displaying cropped images"
   ]
  },
  {
   "cell_type": "code",
   "execution_count": null,
   "metadata": {
    "scrolled": false
   },
   "outputs": [],
   "source": [
    "import matplotlib.pyplot as plt\n",
    "\n",
    "fig = plt.figure(figsize=(20, (len(X_train)/5 + 1)*2), dpi=80)\n",
    "\n",
    "columns = 5\n",
    "for i, v in enumerate(X_train):\n",
    "    \n",
    "    ax = plt.subplot(int(len(X_train)/columns)+1, columns, i+1)\n",
    "    ax.set_title(str(i) + '. '+y_train[i])\n",
    "    ax.imshow(v)\n",
    "\n",
    "fig.tight_layout()\n",
    "fig.show()"
   ]
  },
  {
   "cell_type": "markdown",
   "metadata": {},
   "source": [
    "#### Remove Images which have been wrongly detected\n"
   ]
  },
  {
   "cell_type": "code",
   "execution_count": null,
   "metadata": {},
   "outputs": [],
   "source": [
    "# indices_to_remove = [181, 176, 155, 110, 59, 46]\n",
    "\n",
    "# X, y = [], []\n",
    "# for i in range(len(X_train)):\n",
    "#     if i not in indices_to_remove:\n",
    "#         X.append(X_train[i])\n",
    "#         y.append(y_train[i])\n",
    "        \n",
    "# X_train = np.array(X)\n",
    "# y_train = y\n",
    "\n",
    "# print('Shape of detected face datasets:', X_train.shape)\n",
    "# print('Length of label list', len(y_train))"
   ]
  },
  {
   "cell_type": "markdown",
   "metadata": {},
   "source": [
    "### 4. Creating embeddings of the face"
   ]
  },
  {
   "cell_type": "code",
   "execution_count": null,
   "metadata": {},
   "outputs": [],
   "source": [
    "from face_recog.recognizer import FacenetEmbeddingsTransformer\n",
    "\n",
    "recognizer = FacenetEmbeddingsTransformer(model_path='models/keras/facenet_keras.h5')\n",
    "X_train = recognizer.fit_transform(X_train)\n",
    "print(X_train.shape)"
   ]
  },
  {
   "cell_type": "markdown",
   "metadata": {},
   "source": [
    "### 5. Creating a classifier"
   ]
  },
  {
   "cell_type": "markdown",
   "metadata": {},
   "source": [
    "##### Normalizing embeddings"
   ]
  },
  {
   "cell_type": "code",
   "execution_count": null,
   "metadata": {},
   "outputs": [],
   "source": [
    "from sklearn.preprocessing import Normalizer\n",
    "norm = Normalizer(norm='l2')\n",
    "X_train = norm.fit_transform(X_train)"
   ]
  },
  {
   "cell_type": "markdown",
   "metadata": {},
   "source": [
    "##### Training a classifier"
   ]
  },
  {
   "cell_type": "markdown",
   "metadata": {},
   "source": [
    "#### Classifier #1: Gradient Boosting Classifier"
   ]
  },
  {
   "cell_type": "code",
   "execution_count": null,
   "metadata": {},
   "outputs": [],
   "source": [
    "from sklearn.ensemble import GradientBoostingClassifier\n",
    "\n",
    "clf = GradientBoostingClassifier()\n",
    "clf.fit(X_train, y_train)"
   ]
  },
  {
   "cell_type": "markdown",
   "metadata": {},
   "source": [
    "#### Classifier #2: XGBoost"
   ]
  },
  {
   "cell_type": "code",
   "execution_count": null,
   "metadata": {},
   "outputs": [],
   "source": [
    "from xgboost import XGBClassifier\n",
    "\n",
    "clf2 = XGBClassifier()\n",
    "clf2.fit(X_train, y_train)"
   ]
  },
  {
   "cell_type": "markdown",
   "metadata": {},
   "source": [
    "### 6. Validation"
   ]
  },
  {
   "cell_type": "markdown",
   "metadata": {},
   "source": [
    "#### Loading data"
   ]
  },
  {
   "cell_type": "code",
   "execution_count": null,
   "metadata": {},
   "outputs": [],
   "source": [
    "data_val = ImageDataset(validation_path)\n",
    "X_val, y_val = data_val.load_data(convert_xy=True)\n",
    "\n",
    "print('Number of images:', len(X_val))\n",
    "print('Number of labels:', len(y_val))\n",
    "\n",
    "for i, x in enumerate(X_val):\n",
    "    print('Label:', y_val[i], 'Shape:', x.shape)\n",
    "    break"
   ]
  },
  {
   "cell_type": "markdown",
   "metadata": {},
   "source": [
    "#### Detecting faces and generating embeddings"
   ]
  },
  {
   "cell_type": "code",
   "execution_count": null,
   "metadata": {},
   "outputs": [],
   "source": [
    "len(y_val)"
   ]
  },
  {
   "cell_type": "code",
   "execution_count": null,
   "metadata": {},
   "outputs": [],
   "source": [
    "X_val_ = detector.transform(X_val)\n",
    "y_val = detector.apply_label_mask(y_val)\n",
    "\n",
    "print('Shape of detected face datasets:', X_val_.shape)\n",
    "print('Length of label list', len(y_val))"
   ]
  },
  {
   "cell_type": "code",
   "execution_count": null,
   "metadata": {},
   "outputs": [],
   "source": [
    "len(detector.label_mask)"
   ]
  },
  {
   "cell_type": "code",
   "execution_count": null,
   "metadata": {},
   "outputs": [],
   "source": [
    "X_val = recognizer.transform(X_val_)\n",
    "print(X_val.shape)"
   ]
  },
  {
   "cell_type": "markdown",
   "metadata": {},
   "source": [
    "#### Predicting"
   ]
  },
  {
   "cell_type": "code",
   "execution_count": null,
   "metadata": {},
   "outputs": [],
   "source": [
    "X_val = norm.transform(X_val)\n",
    "y_pred = clf.predict(X_val)"
   ]
  },
  {
   "cell_type": "markdown",
   "metadata": {},
   "source": [
    "#####  Accuracy"
   ]
  },
  {
   "cell_type": "code",
   "execution_count": null,
   "metadata": {
    "scrolled": true
   },
   "outputs": [],
   "source": [
    "from sklearn.metrics import accuracy_score\n",
    "print('Accuracy:', accuracy_score(y_val, y_pred)*100, '%')"
   ]
  },
  {
   "cell_type": "markdown",
   "metadata": {},
   "source": [
    "### 7. Plotting Results"
   ]
  },
  {
   "cell_type": "code",
   "execution_count": null,
   "metadata": {},
   "outputs": [],
   "source": [
    "import matplotlib.pyplot as plt\n",
    "\n",
    "fig = plt.figure(figsize=(20, (len(X_val_)/5 + 1)*2), dpi=80)\n",
    "\n",
    "columns = 5\n",
    "for i, v in enumerate(X_val_):\n",
    "    \n",
    "    ax = plt.subplot(int(len(X_val_)/columns)+1, columns, i+1)\n",
    "    title = str(y_pred[i]+'//'+ y_val[i])\n",
    "    if y_pred[i] == y_val[i]:\n",
    "        ax.set_title(title)\n",
    "    else:\n",
    "        ax.set_title(title , color='red')\n",
    "    ax.imshow(v)\n",
    "\n",
    "fig.tight_layout()\n",
    "fig.show()"
   ]
  },
  {
   "cell_type": "markdown",
   "metadata": {},
   "source": [
    "### 8. Testing Results with XGBoost Classifier"
   ]
  },
  {
   "cell_type": "markdown",
   "metadata": {},
   "source": [
    "#### Predicting"
   ]
  },
  {
   "cell_type": "code",
   "execution_count": null,
   "metadata": {},
   "outputs": [],
   "source": [
    "y_pred = clf2.predict(X_val)"
   ]
  },
  {
   "cell_type": "markdown",
   "metadata": {},
   "source": [
    "#####  Accuracy"
   ]
  },
  {
   "cell_type": "code",
   "execution_count": null,
   "metadata": {
    "scrolled": true
   },
   "outputs": [],
   "source": [
    "from sklearn.metrics import accuracy_score\n",
    "print('Accuracy:', accuracy_score(y_val, y_pred)*100, '%')"
   ]
  },
  {
   "cell_type": "markdown",
   "metadata": {},
   "source": [
    "### 7. Plotting Results"
   ]
  },
  {
   "cell_type": "code",
   "execution_count": null,
   "metadata": {},
   "outputs": [],
   "source": [
    "import matplotlib.pyplot as plt\n",
    "\n",
    "fig = plt.figure(figsize=(20, (len(X_val_)/5 + 1)*2), dpi=80)\n",
    "\n",
    "columns = 5\n",
    "for i, v in enumerate(X_val_):\n",
    "    \n",
    "    ax = plt.subplot(int(len(X_val_)/columns)+1, columns, i+1)\n",
    "    title = str(y_pred[i]+'//'+ y_val[i])\n",
    "    if y_pred[i] == y_val[i]:\n",
    "        ax.set_title(title)\n",
    "    else:\n",
    "        ax.set_title(title , color='red')\n",
    "    ax.imshow(v)\n",
    "\n",
    "fig.tight_layout()\n",
    "fig.show()"
   ]
  }
 ],
 "metadata": {
  "kernelspec": {
   "display_name": "Python(face_recog)",
   "language": "python",
   "name": "face_recog"
  },
  "language_info": {
   "codemirror_mode": {
    "name": "ipython",
    "version": 3
   },
   "file_extension": ".py",
   "mimetype": "text/x-python",
   "name": "python",
   "nbconvert_exporter": "python",
   "pygments_lexer": "ipython3",
   "version": "3.6.10"
  }
 },
 "nbformat": 4,
 "nbformat_minor": 4
}
