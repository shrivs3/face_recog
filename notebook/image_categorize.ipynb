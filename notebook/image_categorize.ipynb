{
 "cells": [
  {
   "cell_type": "code",
   "execution_count": 74,
   "metadata": {},
   "outputs": [],
   "source": [
    "import os\n",
    "\n",
    "cwd = os.getcwd()\n",
    "source_path = os.path.join(cwd, \"dataset/note_5\")\n",
    "destination_path = \"dataset/family_curated\""
   ]
  },
  {
   "cell_type": "code",
   "execution_count": 29,
   "metadata": {},
   "outputs": [
    {
     "name": "stdout",
     "output_type": "stream",
     "text": [
      "Number of images in source: 1835\n"
     ]
    }
   ],
   "source": [
    "img_paths = [os.path.join(source_path, img) for img in os.listdir(source_path) if '.jpg' in img]\n",
    "\n",
    "print(\"Number of images in source:\", len(img_paths))"
   ]
  },
  {
   "cell_type": "code",
   "execution_count": 30,
   "metadata": {},
   "outputs": [],
   "source": [
    "img_classes = ['aditya', 'shubhra', 'akanksha', 'shrey', 'none']"
   ]
  },
  {
   "cell_type": "code",
   "execution_count": 31,
   "metadata": {},
   "outputs": [
    {
     "data": {
      "application/vnd.jupyter.widget-view+json": {
       "model_id": "7052f61395944a949b52468bad13aec9",
       "version_major": 2,
       "version_minor": 0
      },
      "text/plain": [
       "VBox(children=(Image(value=b'\\xff\\xd8\\xff\\xe1\\x02\\xb0Exif\\x00\\x00II*\\x00\\x08\\x00\\x00\\x00\\x0c\\x00\\x00\\x01\\x04\\x…"
      ]
     },
     "metadata": {},
     "output_type": "display_data"
    }
   ],
   "source": [
    "import numpy as np\n",
    "from PIL import Image\n",
    "import matplotlib.pyplot as plt\n",
    "import ipywidgets as widgets\n",
    "\n",
    "images = []\n",
    "\n",
    "for i, path in enumerate(img_paths):\n",
    "    img = Image.open(path)     \n",
    "    img_array =  np.asarray(img)\n",
    "    \n",
    "#     plt.imshow(img_array)\n",
    "\n",
    "    file = open(path, \"rb\")\n",
    "    image = file.read()\n",
    "    images.append(widgets.Image(value=image, format='jpg', width=300, height=400))\n",
    "    if i ==4:\n",
    "        break\n",
    "        \n",
    "widgets.VBox(images)"
   ]
  },
  {
   "cell_type": "code",
   "execution_count": 77,
   "metadata": {},
   "outputs": [],
   "source": [
    "def callback(image_name, shape):\n",
    "    print(image_name, shape)\n",
    "    shape.draw() # Draw the shape onto the PIL image; Otherwise we print the unmodified image. \n",
    "    # Note draw() is inplace method\n",
    "    PIL_im = shape.image # Access the PIL image from the 'shape' object\n",
    "    img_array =  np.asarray(PIL_im)\n",
    "#     plt.imshow(img_array[])\n",
    "    x_1, y_1, w, h = shape.size\n",
    "    x_2 = x_1 + w\n",
    "    y_2 = y_1 + h\n",
    "    focus_area = img_array[y_1:y_2, x_1:x_2]\n",
    "    img_cropped = Image.fromarray(focus_area, 'RGB')\n",
    "    \n",
    "    # save file\n",
    "    img_name = os.path.join(destination_path, image_name+'.jpg')\n",
    "    suffix = ''\n",
    "    if os.path.isfile(img_name):\n",
    "        import string\n",
    "        import random\n",
    "        suffix = ''.join(random.choice(string.ascii_uppercase + string.digits) for _ in range(6))\n",
    "    img_cropped.save(os.path.join(destination_path, image_name+ str(suffix) +'.jpg'))\n",
    "\n",
    "#     import time\n",
    "\n",
    "#     # Wait for 5 seconds\n",
    "#     time.sleep(20)\n",
    "#     d = ImageDraw.Draw(PIL_im)\n",
    "#     d.text((10,10), text=str(shape.size), fill='white') # Draw the crop shape onto the image\n",
    "#     PIL_im.save(image_name+'_w_Text.jpg') # Saves the image with text\n",
    "    "
   ]
  },
  {
   "cell_type": "code",
   "execution_count": 78,
   "metadata": {},
   "outputs": [
    {
     "data": {
      "application/vnd.jupyter.widget-view+json": {
       "model_id": "389c98ff51804c0baa30262d344e9bd1",
       "version_major": 2,
       "version_minor": 0
      },
      "text/plain": [
       "GridBox(children=(Dropdown(description='Img Name:', layout=Layout(grid_area='im_selector', width='100%'), opti…"
      ]
     },
     "metadata": {},
     "output_type": "display_data"
    }
   ],
   "source": [
    "from interactivecrop.interactivecrop import main as crop\n",
    "from interactivecrop.samples import sample_images, sample_names\n",
    "\n",
    "img_paths_100 = img_paths[0:100]\n",
    "crop(img_paths_100,image_name_list = [str(i) for i,_ in enumerate(img_paths_100)], optimize=False, callback=callback)"
   ]
  },
  {
   "cell_type": "code",
   "execution_count": null,
   "metadata": {},
   "outputs": [],
   "source": []
  }
 ],
 "metadata": {
  "kernelspec": {
   "display_name": "Python(face_recog)",
   "language": "python",
   "name": "face_recog"
  },
  "language_info": {
   "codemirror_mode": {
    "name": "ipython",
    "version": 3
   },
   "file_extension": ".py",
   "mimetype": "text/x-python",
   "name": "python",
   "nbconvert_exporter": "python",
   "pygments_lexer": "ipython3",
   "version": "3.6.10"
  }
 },
 "nbformat": 4,
 "nbformat_minor": 4
}
